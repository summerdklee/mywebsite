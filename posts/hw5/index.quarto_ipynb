{
  "cells": [
    {
      "cell_type": "markdown",
      "metadata": {},
      "source": [
        "---\n",
        "title: \"HW5\"\n",
        "author: \"Dakyung Lee\"\n",
        "date: \"2024-07-29\"\n",
        "jupyter: python3\n",
        "---\n",
        "\n",
        "### Q1. 균일분포 (3, 7)에서 20개의 표본 뽑기 (10000개 사용) "
      ],
      "id": "c222df66"
    },
    {
      "cell_type": "code",
      "metadata": {},
      "source": [
        "import numpy as np\n",
        "import matplotlib.pyplot as plt\n",
        "import seaborn as sns\n",
        "from scipy.stats import uniform\n",
        "\n",
        "x = uniform.rvs(loc=3, scale=4, size=20*10000).reshape(-1,20)\n",
        "x"
      ],
      "id": "f4f02370",
      "execution_count": null,
      "outputs": []
    },
    {
      "cell_type": "markdown",
      "metadata": {},
      "source": [
        "### Q2. n-1로 나눈 것을 s_2 으로 정의하고 모분산 위치에 녹색 막대 추가하기."
      ],
      "id": "e9b48488"
    },
    {
      "cell_type": "code",
      "metadata": {},
      "source": [
        "s_2 = x.var(axis = 1, ddof = 1)\n",
        "s_2\n",
        "\n",
        "sns.histplot(s_2)\n",
        "plt.axvline(x.var(), color=\"green\", linewidth = 2)\n",
        "plt.show()\n",
        "plt.clf()"
      ],
      "id": "653bc6de",
      "execution_count": null,
      "outputs": []
    },
    {
      "cell_type": "markdown",
      "metadata": {},
      "source": [
        "### Q3. 왜 n-1을 사용하는 것이 더 타당한지?\n",
        "* 분모를 `n-1`로 가진 그래프가 모분산에 더 근접한 결과를 보이기 때문에"
      ],
      "id": "96dcaacb"
    }
  ],
  "metadata": {
    "kernelspec": {
      "name": "python3",
      "language": "python",
      "display_name": "Python 3 (ipykernel)",
      "path": "C:\\DS\\Python\\Python312\\share\\jupyter\\kernels\\python3"
    }
  },
  "nbformat": 4,
  "nbformat_minor": 5
}