{
  "cells": [
    {
      "cell_type": "raw",
      "metadata": {},
      "source": [
        "---\n",
        "title: HW1\n",
        "author: Dakyung Lee\n",
        "date: '2024-07-15'\n",
        "---"
      ],
      "id": "09a6f916"
    },
    {
      "cell_type": "markdown",
      "metadata": {},
      "source": [
        "## 84p\n",
        "\n",
        "### Q1. 다음 표의 내용을 데이터 프레임으로 만들어 출력해 보세요."
      ],
      "id": "dce86da3"
    },
    {
      "cell_type": "code",
      "metadata": {},
      "source": [
        "import pandas as pd\n",
        "\n",
        "df = pd.DataFrame({'product' : ['사과', '딸기', '수박'],\n",
        "                    'price' : [1800, 1500, 3000],\n",
        "                    'sales' : [ 24, 38, 13]})\n",
        "df"
      ],
      "id": "99a34048",
      "execution_count": null,
      "outputs": []
    },
    {
      "cell_type": "markdown",
      "metadata": {},
      "source": [
        "### Q2. 앞에서 만든 데이터 프레임을 이용해 과일의 가격 평균과 판매량 평균을 구해 보세요."
      ],
      "id": "a337604b"
    },
    {
      "cell_type": "code",
      "metadata": {},
      "source": [
        "price_mean =  sum(df['price'] / 3)\n",
        "sales_mean = sum(df['sales'] / 3)\n",
        "\n",
        "price_mean\n",
        "sales_mean"
      ],
      "id": "687b02d6",
      "execution_count": null,
      "outputs": []
    },
    {
      "cell_type": "markdown",
      "metadata": {},
      "source": [
        "## 115p\n",
        "\n",
        "### Q1. mpg 데이터를 불러와 복사본을 만드세요."
      ],
      "id": "a298efbe"
    },
    {
      "cell_type": "code",
      "metadata": {},
      "source": [
        "import pydataset\n",
        "\n",
        "df_mpg = pydataset.data('mpg')\n",
        "df_mpg_new = df_mpg.copy()\n",
        "df_mpg_new"
      ],
      "id": "e4fa1b44",
      "execution_count": null,
      "outputs": []
    },
    {
      "cell_type": "markdown",
      "metadata": {},
      "source": [
        "### Q2. 복사본 데이터를 이용해 `cty`는 `city`로, `hwy`는 `highway`로 수정하세요."
      ],
      "id": "0d80c0d9"
    },
    {
      "cell_type": "code",
      "metadata": {},
      "source": [
        "df_mpg_new = df_mpg_new.rename(columns = {'cty' : 'city'})\n",
        "df_mpg_new = df_mpg_new.rename(columns = {'hwy' : 'highway'})"
      ],
      "id": "bb202992",
      "execution_count": null,
      "outputs": []
    },
    {
      "cell_type": "markdown",
      "metadata": {},
      "source": [
        "### Q3. 데이터 일부를 출력해 변수명이 바뀌었는지 확인해 보세요."
      ],
      "id": "ae4300d4"
    },
    {
      "cell_type": "code",
      "metadata": {},
      "source": [
        "df_mpg_new.head()"
      ],
      "id": "1ba02cc7",
      "execution_count": null,
      "outputs": []
    },
    {
      "cell_type": "markdown",
      "metadata": {},
      "source": [
        "## 130p\n",
        "\n",
        "### Q1. `midwest.csv`를 불러와 데이터의 특징을 파악하세요."
      ],
      "id": "71a09fea"
    },
    {
      "cell_type": "code",
      "metadata": {},
      "source": [
        "df_mw = pd.read_csv('../data/midwest.csv')\n",
        "\n",
        "df_mw.info()\n",
        "df_mw.head()\n",
        "df_mw.tail()\n",
        "df_mw.shape\n",
        "df_mw.describe()"
      ],
      "id": "d70cecb2",
      "execution_count": null,
      "outputs": []
    },
    {
      "cell_type": "markdown",
      "metadata": {},
      "source": [
        "### Q2. `poptotal(전체 인구)` 변수를 `total`로, `popasian(아시아 인구)` 변수를 `asian`으로 수정하세요."
      ],
      "id": "64936ada"
    },
    {
      "cell_type": "code",
      "metadata": {},
      "source": [
        "df_mw = df_mw.rename(columns = {'poptotal' : 'total'})\n",
        "df_mw = df_mw.rename(columns = {'popasian' : 'asian'})\n",
        "\n",
        "df_mw.head()"
      ],
      "id": "49486f95",
      "execution_count": null,
      "outputs": []
    },
    {
      "cell_type": "markdown",
      "metadata": {},
      "source": [
        "### Q3. `total`, `asian` 변수를 이용해 '전체 인구 대비 아시아 인구 백분율' 파생변수를 추가하고, 히스토그램을 만들어 분포를 살펴보세요.\n"
      ],
      "id": "e9949b5d"
    },
    {
      "cell_type": "code",
      "metadata": {},
      "source": [
        "df_mw['per_asian'] = (df_mw['asian'] / df_mw['total']) * 100\n",
        "df_mw\n",
        "\n",
        "df_mw['per_asian'].plot.hist()"
      ],
      "id": "fbbff8a8",
      "execution_count": null,
      "outputs": []
    },
    {
      "cell_type": "markdown",
      "metadata": {},
      "source": [
        "### Q4. 아시아 인구 백분율 전체 평균을 구하고, 평균을 초과하면 `large`, 그 외에는 `small`을 부여한 파생변수를 만들어 보세요."
      ],
      "id": "1373022b"
    },
    {
      "cell_type": "code",
      "metadata": {},
      "source": [
        "per_asian_mean = df_mw['per_asian'].mean()\n",
        "per_asian_mean\n",
        "\n",
        "import numpy as np\n",
        "df_mw['SmallLarge'] = np.where(df_mw['per_asian'] > per_asian_mean, 'large', 'small')\n",
        "df_mw"
      ],
      "id": "f56e71f0",
      "execution_count": null,
      "outputs": []
    },
    {
      "cell_type": "markdown",
      "metadata": {},
      "source": [
        "### Q5. `large`와 `small`에 해당하는 지역이 얼마나 많은지 빈도표와 빈도 막대 그래프를 만들어 확인해 보세요."
      ],
      "id": "f34ff034"
    },
    {
      "cell_type": "code",
      "metadata": {},
      "source": [
        "# 빈도표\n",
        "df_mw['SmallLarge'].value_counts()\n",
        "\n",
        "# 빈도 막대 그래프\n",
        "count_sl = df_mw['SmallLarge'].value_counts()\n",
        "count_sl.plot.bar(rot = 0)"
      ],
      "id": "6f267305",
      "execution_count": null,
      "outputs": []
    }
  ],
  "metadata": {
    "kernelspec": {
      "display_name": "Python 3",
      "language": "python",
      "name": "python3"
    }
  },
  "nbformat": 4,
  "nbformat_minor": 5
}